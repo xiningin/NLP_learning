{
 "cells": [
  {
   "cell_type": "code",
   "execution_count": 1,
   "metadata": {},
   "outputs": [],
   "source": [
    "from N_Gram import N_Gram\n",
    "import numpy as np\n",
    "import csv\n",
    "import random\n",
    "from Linear_Regression import model"
   ]
  },
  {
   "attachments": {},
   "cell_type": "markdown",
   "metadata": {},
   "source": [
    "#### 创建语言模型"
   ]
  },
  {
   "cell_type": "code",
   "execution_count": 2,
   "metadata": {},
   "outputs": [
    {
     "name": "stderr",
     "output_type": "stream",
     "text": [
      "create gram dict : 4-gram: 100%|██████████| 156060/156060 [00:00<00:00, 477247.15it/s]\n",
      "create gram dict : 4-gram: 100%|██████████| 156060/156060 [00:00<00:00, 385328.14it/s]\n",
      "create gram dict : 4-gram: 100%|██████████| 156060/156060 [00:00<00:00, 402193.00it/s]\n",
      "create gram dict : 4-gram: 100%|██████████| 156060/156060 [00:00<00:00, 406406.94it/s]\n"
     ]
    }
   ],
   "source": [
    "with open('../data/train.tsv') as train_file:\n",
    "    reader = csv.reader(train_file , delimiter='\\t')\n",
    "    data = list(reader)\n",
    "data = data[1:] # 有表头\n",
    "\n",
    "train_feature = N_Gram(data , dimension=4)\n",
    "train_feature.create_dict()"
   ]
  },
  {
   "attachments": {},
   "cell_type": "markdown",
   "metadata": {},
   "source": [
    "#### 对测试数据进行特征提取"
   ]
  },
  {
   "cell_type": "code",
   "execution_count": 3,
   "metadata": {},
   "outputs": [],
   "source": [
    "with open('../data/test.tsv') as test_file:\n",
    "    reader = csv.reader(test_file , delimiter='\\t')\n",
    "    test_data = list(reader)\n",
    "test_data = test_data[1:] # 有表头\n",
    "\n",
    "test_feature = N_Gram(test_data , dimension=4)\n",
    "test_feature.word_dict = train_feature.word_dict\n",
    "test_feature.dict_len = train_feature.dict_len\n",
    "test_phrase = [item[2] for item in test_data]"
   ]
  },
  {
   "cell_type": "code",
   "execution_count": 4,
   "metadata": {},
   "outputs": [
    {
     "data": {
      "text/plain": [
       "360247"
      ]
     },
     "execution_count": 4,
     "metadata": {},
     "output_type": "execute_result"
    }
   ],
   "source": [
    "train_feature.dict_len"
   ]
  },
  {
   "attachments": {},
   "cell_type": "markdown",
   "metadata": {},
   "source": [
    "#### 读取模型数据"
   ]
  },
  {
   "cell_type": "code",
   "execution_count": 5,
   "metadata": {},
   "outputs": [
    {
     "data": {
      "text/plain": [
       "(360247, 5)"
      ]
     },
     "execution_count": 5,
     "metadata": {},
     "output_type": "execute_result"
    }
   ],
   "source": [
    "classifier = model(5 , train_feature.dict_len)\n",
    "tmp_list = []\n",
    "model_name = '2023-03-12 10_38-model'\n",
    "\n",
    "\n",
    "with open('../model/'+model_name+'.tsv' , 'r') as trained_model:\n",
    "    for line in trained_model:\n",
    "        tmp_list.append(line.strip().split('\\t'))\n",
    "classifier.W_matrix = np.array(tmp_list, dtype=np.float64)\n",
    "\n",
    "classifier.W_matrix.shape"
   ]
  },
  {
   "attachments": {},
   "cell_type": "markdown",
   "metadata": {},
   "source": [
    "#### 开始预测(直接使用所有进行矩阵计算内存不够算)"
   ]
  },
  {
   "cell_type": "code",
   "execution_count": 6,
   "metadata": {},
   "outputs": [],
   "source": [
    "result = []\n",
    "\n",
    "for phrase in test_phrase:\n",
    "    tmp_feature = np.zeros((1,test_feature.dict_len),dtype=np.float64)\n",
    "    #获取一行的特征表示\n",
    "    for dime in range(1,5):\n",
    "        words = phrase.lower().split()\n",
    "        for j in range(len(words)-dime+1):\n",
    "            tokenized_word = ' '.join(words[j : j+dime])\n",
    "            if tokenized_word in test_feature.word_dict:\n",
    "                tmp_feature[0][test_feature.word_dict[tokenized_word]] = 1\n",
    "    #开始计算预测\n",
    "    result.append(classifier.prediction(tmp_feature))"
   ]
  },
  {
   "attachments": {},
   "cell_type": "markdown",
   "metadata": {},
   "source": [
    "#### 准备提交"
   ]
  },
  {
   "cell_type": "code",
   "execution_count": 7,
   "metadata": {},
   "outputs": [],
   "source": [
    "phraseId = [item[0] for item in test_data]\n",
    "submit_data = [[x,y[0]] for x,y in zip(phraseId , result)]"
   ]
  },
  {
   "cell_type": "code",
   "execution_count": 8,
   "metadata": {},
   "outputs": [],
   "source": [
    "import pandas as pd\n",
    "\n",
    "df = pd.DataFrame(submit_data, columns=['PhraseId', 'Sentiment'])\n",
    "df.to_csv(f'{model_name}-submit.csv', index=None)"
   ]
  }
 ],
 "metadata": {
  "kernelspec": {
   "display_name": "Python 3",
   "language": "python",
   "name": "python3"
  },
  "language_info": {
   "codemirror_mode": {
    "name": "ipython",
    "version": 3
   },
   "file_extension": ".py",
   "mimetype": "text/x-python",
   "name": "python",
   "nbconvert_exporter": "python",
   "pygments_lexer": "ipython3",
   "version": "3.9.6"
  },
  "orig_nbformat": 4
 },
 "nbformat": 4,
 "nbformat_minor": 2
}
