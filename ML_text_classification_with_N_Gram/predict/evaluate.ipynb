{
 "cells": [
  {
   "cell_type": "code",
   "execution_count": 1,
   "metadata": {},
   "outputs": [],
   "source": [
    "from N_Gram import N_Gram\n",
    "import numpy as np\n",
    "import csv\n",
    "import random\n",
    "from Linear_Regression import model"
   ]
  },
  {
   "cell_type": "code",
   "execution_count": 2,
   "metadata": {},
   "outputs": [
    {
     "name": "stderr",
     "output_type": "stream",
     "text": [
      "create gram dict : 4-gram: 100%|██████████| 156060/156060 [00:00<00:00, 483120.88it/s]\n",
      "create gram dict : 4-gram: 100%|██████████| 156060/156060 [00:00<00:00, 392104.44it/s]\n",
      "create gram dict : 4-gram: 100%|██████████| 156060/156060 [00:00<00:00, 411745.59it/s]\n",
      "create gram dict : 4-gram: 100%|██████████| 156060/156060 [00:00<00:00, 409619.07it/s]\n"
     ]
    }
   ],
   "source": [
    "with open('../data/train.tsv') as train_file:\n",
    "    reader = csv.reader(train_file , delimiter='\\t')\n",
    "    data = list(reader)\n",
    "data = data[1:] # 有表头\n",
    "\n",
    "data_feature = N_Gram(data , dimension=4)\n",
    "data_feature.create_dict()"
   ]
  },
  {
   "attachments": {},
   "cell_type": "markdown",
   "metadata": {},
   "source": [
    "#### 取样部分数据(平均取样)"
   ]
  },
  {
   "cell_type": "code",
   "execution_count": 3,
   "metadata": {},
   "outputs": [
    {
     "data": {
      "text/plain": [
       "5000"
      ]
     },
     "execution_count": 3,
     "metadata": {},
     "output_type": "execute_result"
    }
   ],
   "source": [
    "nd_data = np.array(data)\n",
    "rad_idx = random.sample(list(range(6000)) , 1000)\n",
    "\n",
    "senti_0 = nd_data[nd_data[:,3] == '0']\n",
    "sample_0 = senti_0[rad_idx]\n",
    "\n",
    "senti_1 = nd_data[nd_data[:,3] == '1']\n",
    "sample_1 = senti_1[rad_idx]\n",
    "\n",
    "senti_2 = nd_data[nd_data[:,3] == '2']\n",
    "sample_2 = senti_2[rad_idx]\n",
    "\n",
    "senti_3 = nd_data[nd_data[:,3] == '3']\n",
    "sample_3 = senti_3[rad_idx]\n",
    "\n",
    "senti_4 = nd_data[nd_data[:,3] == '4']\n",
    "sample_4 = senti_4[rad_idx]\n",
    "\n",
    "sample = np.concatenate((sample_0,sample_1,sample_2,sample_3,sample_4), axis=0)\n",
    "len(sample)"
   ]
  },
  {
   "attachments": {},
   "cell_type": "markdown",
   "metadata": {},
   "source": [
    "#### 取样部分数据(随机取样)"
   ]
  },
  {
   "cell_type": "code",
   "execution_count": 4,
   "metadata": {},
   "outputs": [],
   "source": [
    "# sample = random.sample(data , 5000)"
   ]
  },
  {
   "cell_type": "code",
   "execution_count": 5,
   "metadata": {},
   "outputs": [],
   "source": [
    "eva_data = sample\n",
    "\n",
    "eva_feature = N_Gram(eva_data , dimension=4)\n",
    "eva_feature.word_dict = data_feature.word_dict\n",
    "eva_feature.dict_len = data_feature.dict_len\n",
    "eva_phrase = [item[2] for item in eva_data]"
   ]
  },
  {
   "attachments": {},
   "cell_type": "markdown",
   "metadata": {},
   "source": [
    "#### 读取模型"
   ]
  },
  {
   "cell_type": "code",
   "execution_count": 6,
   "metadata": {},
   "outputs": [
    {
     "data": {
      "text/plain": [
       "(360247, 5)"
      ]
     },
     "execution_count": 6,
     "metadata": {},
     "output_type": "execute_result"
    }
   ],
   "source": [
    "classifier = model(5 , data_feature.dict_len)\n",
    "tmp_list = []\n",
    "model_name = '2023-03-12 10_38-model'\n",
    "\n",
    "\n",
    "with open('../model/'+model_name+'.tsv' , 'r') as trained_model:\n",
    "    for line in trained_model:\n",
    "        tmp_list.append(line.strip().split('\\t'))\n",
    "classifier.W_matrix = np.array(tmp_list, dtype=np.float64)\n",
    "\n",
    "classifier.W_matrix.shape"
   ]
  },
  {
   "attachments": {},
   "cell_type": "markdown",
   "metadata": {},
   "source": [
    "#### 开始生成预测结果"
   ]
  },
  {
   "cell_type": "code",
   "execution_count": 7,
   "metadata": {},
   "outputs": [],
   "source": [
    "result = []\n",
    "\n",
    "for phrase in eva_phrase:\n",
    "    tmp_feature = np.zeros((1,eva_feature.dict_len),dtype=np.float64)\n",
    "    #获取一行的特征表示\n",
    "    for dime in range(1,5):\n",
    "        words = phrase.lower().split()\n",
    "        for j in range(len(words)-dime+1):\n",
    "            tokenized_word = ' '.join(words[j : j+dime])\n",
    "            if tokenized_word in eva_feature.word_dict:\n",
    "                tmp_feature[0][eva_feature.word_dict[tokenized_word]] = 1\n",
    "    #开始计算预测\n",
    "    result.append(classifier.prediction(tmp_feature))"
   ]
  },
  {
   "cell_type": "code",
   "execution_count": 8,
   "metadata": {},
   "outputs": [],
   "source": [
    "# eva_feature.y_data # 是list"
   ]
  },
  {
   "cell_type": "code",
   "execution_count": 9,
   "metadata": {},
   "outputs": [
    {
     "data": {
      "text/plain": [
       "True"
      ]
     },
     "execution_count": 9,
     "metadata": {},
     "output_type": "execute_result"
    }
   ],
   "source": [
    "len(result) == len(eva_feature.y_data)"
   ]
  },
  {
   "attachments": {},
   "cell_type": "markdown",
   "metadata": {},
   "source": [
    "#### 开始对比验证看看"
   ]
  },
  {
   "cell_type": "code",
   "execution_count": 10,
   "metadata": {},
   "outputs": [
    {
     "data": {
      "text/plain": [
       "0.1992"
      ]
     },
     "execution_count": 10,
     "metadata": {},
     "output_type": "execute_result"
    }
   ],
   "source": [
    "a = 0\n",
    "for i in range(len(result)):\n",
    "    if result[i] == eva_feature.y_data[i]:\n",
    "        a += 1\n",
    "\n",
    "a / len(result)"
   ]
  },
  {
   "cell_type": "code",
   "execution_count": 11,
   "metadata": {},
   "outputs": [
    {
     "data": {
      "image/png": "[encoded data removed]",
      "text/plain": [
       "<Figure size 720x576 with 2 Axes>"
      ]
     },
     "metadata": {
      "needs_background": "light"
     },
     "output_type": "display_data"
    }
   ],
   "source": [
    "import matplotlib.pyplot as plt\n",
    "from sklearn.metrics import confusion_matrix\n",
    "\n",
    "cm = confusion_matrix(eva_feature.y_data, result)\n",
    "classes = ['negative','somewhat negative','neutral','somewhat positive','positive']\n",
    "\n",
    "# 绘制混淆矩阵\n",
    "plt.figure(figsize=(10,8))\n",
    "plt.imshow(cm, interpolation='nearest', cmap=plt.cm.Blues)\n",
    "plt.title('Confusion matrix')\n",
    "plt.colorbar()\n",
    "tick_marks = np.arange(len(classes))\n",
    "plt.xticks(tick_marks, classes, rotation=45)\n",
    "plt.yticks(tick_marks, classes)\n",
    "\n",
    "plt.tight_layout()\n",
    "plt.ylabel('True label')\n",
    "plt.xlabel('Predicted label')\n",
    "plt.show()"
   ]
  }
 ],
 "metadata": {
  "kernelspec": {
   "display_name": "Python 3",
   "language": "python",
   "name": "python3"
  },
  "language_info": {
   "codemirror_mode": {
    "name": "ipython",
    "version": 3
   },
   "file_extension": ".py",
   "mimetype": "text/x-python",
   "name": "python",
   "nbconvert_exporter": "python",
   "pygments_lexer": "ipython3",
   "version": "3.9.6"
  },
  "orig_nbformat": 4
 },
 "nbformat": 4,
 "nbformat_minor": 2
}
