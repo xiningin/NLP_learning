{
 "cells": [
  {
   "cell_type": "code",
   "execution_count": 1,
   "metadata": {},
   "outputs": [],
   "source": [
    "from torch import optim\n",
    "import torch\n",
    "from text_model import TextCNN , TextRNN\n",
    "from create_wordvec import make_test_dataLodaer , make_val_dataLodaer\n",
    "import torch.nn.functional as F\n",
    "import numpy as np\n",
    "from tqdm import tqdm\n",
    "import matplotlib.pyplot as plt\n",
    "from datetime import datetime"
   ]
  },
  {
   "cell_type": "code",
   "execution_count": 2,
   "metadata": {},
   "outputs": [
    {
     "name": "stdout",
     "output_type": "stream",
     "text": [
      "==========Load data to batch\n",
      "==========start create origin word embedding\n",
      "==========Load test data finished\n"
     ]
    }
   ],
   "source": [
    "EMBEDDING_DIM = 300\n",
    "NUM_OF_CLASS = 5\n",
    "MODEL_USE_DATA_KIND = 0\n",
    "MODEL_NAME = \"CNN\"\n",
    "\n",
    "testDataLoader , vocab_size , vocab_vec = make_test_dataLodaer(train_dataset_kind = MODEL_USE_DATA_KIND, batch_size=64)\n",
    "device = torch.device(\"cuda\" if torch.cuda.is_available() else \"cpu\")\n",
    "MODEL_PATH = f'../model_param/{MODEL_USE_DATA_KIND}-{MODEL_NAME}_42B_300d_glove.pth'\n",
    "# RNN_MODEL_PATH = '../model_param/RNN_42B_300d_glove.pth'"
   ]
  },
  {
   "cell_type": "code",
   "execution_count": 5,
   "metadata": {},
   "outputs": [
    {
     "data": {
      "text/plain": [
       "TextCNN(\n",
       "  (embed): Embedding(16455, 300)\n",
       "  (convs): ModuleList(\n",
       "    (0): Conv2d(1, 64, kernel_size=(3, 300), stride=(1, 1))\n",
       "    (1): Conv2d(1, 64, kernel_size=(4, 300), stride=(1, 1))\n",
       "    (2): Conv2d(1, 64, kernel_size=(5, 300), stride=(1, 1))\n",
       "  )\n",
       "  (dropout): Dropout(p=0.5, inplace=False)\n",
       "  (classifier): Linear(in_features=192, out_features=5, bias=True)\n",
       ")"
      ]
     },
     "execution_count": 5,
     "metadata": {},
     "output_type": "execute_result"
    }
   ],
   "source": [
    "cnn_model = TextCNN(vocab_size=vocab_size , embedding_dim=EMBEDDING_DIM , num_of_class=NUM_OF_CLASS , embedding_vectors=vocab_vec , device=device)\n",
    "checkpoint = torch.load(MODEL_PATH)\n",
    "cnn_model.load_state_dict(checkpoint['model'])\n",
    "cnn_model.eval()"
   ]
  },
  {
   "attachments": {},
   "cell_type": "markdown",
   "metadata": {},
   "source": [
    "### CNN 验证"
   ]
  },
  {
   "cell_type": "code",
   "execution_count": 11,
   "metadata": {},
   "outputs": [
    {
     "name": "stdout",
     "output_type": "stream",
     "text": [
      "==========Load data to batch\n",
      "==========start create origin word embedding\n",
      "==========Load test data finished\n"
     ]
    },
    {
     "name": "stderr",
     "output_type": "stream",
     "text": [
      "100%|██████████| 157/157 [00:00<00:00, 333.33it/s]\n"
     ]
    }
   ],
   "source": [
    "valDataLoader , _ , _ = make_val_dataLodaer(train_dataset_kind = MODEL_USE_DATA_KIND , batch_size=64)\n",
    "valResult = []\n",
    "label = []\n",
    "for batch in tqdm(valDataLoader):\n",
    "    x , y , _ = batch\n",
    "    # x = x.to(device)\n",
    "    logits = cnn_model(x.to(device))\n",
    "    _ , predi = torch.max(logits , dim=1)\n",
    "    valResult.extend(predi.tolist())\n",
    "    label.extend(y.tolist())"
   ]
  },
  {
   "cell_type": "code",
   "execution_count": 12,
   "metadata": {},
   "outputs": [
    {
     "data": {
      "text/plain": [
       "0.2135"
      ]
     },
     "execution_count": 12,
     "metadata": {},
     "output_type": "execute_result"
    }
   ],
   "source": [
    "import numpy as np\n",
    "(np.array(valResult) == np.array(label)).sum() / len(label)"
   ]
  },
  {
   "cell_type": "code",
   "execution_count": 8,
   "metadata": {},
   "outputs": [
    {
     "data": {
      "image/png": "[encoded data removed]",
      "text/plain": [
       "<Figure size 720x576 with 2 Axes>"
      ]
     },
     "metadata": {
      "needs_background": "light"
     },
     "output_type": "display_data"
    }
   ],
   "source": [
    "import matplotlib.pyplot as plt\n",
    "from sklearn.metrics import confusion_matrix\n",
    "\n",
    "cm = confusion_matrix(label , valResult)\n",
    "classes = ['negative','somewhat negative','neutral','somewhat positive','positive']\n",
    "\n",
    "# 绘制混淆矩阵\n",
    "plt.figure(figsize=(10,8))\n",
    "plt.imshow(cm, interpolation='nearest', cmap=plt.cm.Blues)\n",
    "plt.title('Confusion matrix')\n",
    "plt.colorbar()\n",
    "tick_marks = np.arange(len(classes))\n",
    "plt.xticks(tick_marks, classes, rotation=45)\n",
    "plt.yticks(tick_marks, classes)\n",
    "\n",
    "plt.tight_layout()\n",
    "plt.ylabel('True label')\n",
    "plt.xlabel('Predicted label')\n",
    "plt.show()"
   ]
  },
  {
   "attachments": {},
   "cell_type": "markdown",
   "metadata": {},
   "source": [
    "### CNN 预测"
   ]
  },
  {
   "cell_type": "code",
   "execution_count": 9,
   "metadata": {},
   "outputs": [
    {
     "name": "stderr",
     "output_type": "stream",
     "text": [
      "100%|██████████| 1036/1036 [00:02<00:00, 466.67it/s]\n"
     ]
    }
   ],
   "source": [
    "result = []\n",
    "for batch in tqdm(testDataLoader):\n",
    "    x , _ = batch\n",
    "    x = x.to(device)\n",
    "    logits = cnn_model(x)\n",
    "    _ , predi = torch.max(logits , dim=1)\n",
    "    result.extend(predi.tolist())\n"
   ]
  },
  {
   "cell_type": "code",
   "execution_count": 10,
   "metadata": {},
   "outputs": [],
   "source": [
    "import pandas as pd\n",
    "from datetime import datetime\n",
    "df = pd.read_csv('../data/test.tsv' , sep='\\t')\n",
    "df['Sentiment'] = result\n",
    "df = df[['PhraseId' , 'Sentiment']]\n",
    "now = datetime.now().strftime('%Y-%m-%d %H:%M')\n",
    "df.to_csv(f'output/{MODEL_USE_DATA_KIND}-{MODEL_NAME}-submit.csv', index=None)"
   ]
  },
  {
   "attachments": {},
   "cell_type": "markdown",
   "metadata": {},
   "source": [
    "### RNN 验证"
   ]
  },
  {
   "cell_type": "code",
   "execution_count": 22,
   "metadata": {},
   "outputs": [
    {
     "data": {
      "text/plain": [
       "TextRNN(\n",
       "  (embed): Embedding(18228, 300)\n",
       "  (dropout): Dropout(p=0.2, inplace=False)\n",
       "  (rnn): RNN(300, 192, batch_first=True)\n",
       "  (classifier): Linear(in_features=192, out_features=5, bias=True)\n",
       ")"
      ]
     },
     "execution_count": 22,
     "metadata": {},
     "output_type": "execute_result"
    }
   ],
   "source": [
    "MODEL_PATH = f'../model_param/{MODEL_USE_DATA_KIND}-RNN_42B_300d_glove.pth'\n",
    "device = torch.device(\"cuda\" if torch.cuda.is_available() else \"cpu\")\n",
    "\n",
    "rnn_model = TextRNN(vocab_size=vocab_size , embedding_dim=EMBEDDING_DIM , hidden_size=192 , num_of_class=NUM_OF_CLASS , device=device)\n",
    "checkpoint = torch.load(MODEL_PATH)\n",
    "rnn_model.load_state_dict(checkpoint['model'])\n",
    "rnn_model.eval()"
   ]
  },
  {
   "cell_type": "code",
   "execution_count": 23,
   "metadata": {},
   "outputs": [
    {
     "name": "stdout",
     "output_type": "stream",
     "text": [
      "==========Load data to batch\n",
      "==========start create origin word embedding\n",
      "==========Load test data finished\n"
     ]
    },
    {
     "name": "stderr",
     "output_type": "stream",
     "text": [
      "100%|██████████| 157/157 [00:00<00:00, 372.05it/s]\n"
     ]
    }
   ],
   "source": [
    "valDataLoader , _ , _ = make_val_dataLodaer(train_dataset_kind = MODEL_USE_DATA_KIND , batch_size=64)\n",
    "valResult = []\n",
    "label = []\n",
    "for batch in tqdm(valDataLoader):\n",
    "    x , y , _ = batch\n",
    "    # x = x.to(device)\n",
    "    logits = rnn_model(x.to(device))\n",
    "    _ , predi = torch.max(logits , dim=1)\n",
    "    valResult.extend(predi.tolist())\n",
    "    label.extend(y.tolist())"
   ]
  },
  {
   "cell_type": "code",
   "execution_count": 8,
   "metadata": {},
   "outputs": [
    {
     "data": {
      "text/plain": [
       "0.22"
      ]
     },
     "execution_count": 8,
     "metadata": {},
     "output_type": "execute_result"
    }
   ],
   "source": [
    "import numpy as np\n",
    "(np.array(valResult) == np.array(label)).sum() / len(label)"
   ]
  },
  {
   "cell_type": "code",
   "execution_count": 9,
   "metadata": {},
   "outputs": [
    {
     "data": {
      "image/png": "[encoded data removed]",
      "text/plain": [
       "<Figure size 720x576 with 2 Axes>"
      ]
     },
     "metadata": {
      "needs_background": "light"
     },
     "output_type": "display_data"
    }
   ],
   "source": [
    "import matplotlib.pyplot as plt\n",
    "from sklearn.metrics import confusion_matrix\n",
    "\n",
    "cm = confusion_matrix(label , valResult)\n",
    "classes = ['negative','somewhat negative','neutral','somewhat positive','positive']\n",
    "\n",
    "# 绘制混淆矩阵\n",
    "plt.figure(figsize=(10,8))\n",
    "plt.imshow(cm, interpolation='nearest', cmap=plt.cm.Blues)\n",
    "plt.title('Confusion matrix')\n",
    "plt.colorbar()\n",
    "tick_marks = np.arange(len(classes))\n",
    "plt.xticks(tick_marks, classes, rotation=45)\n",
    "plt.yticks(tick_marks, classes)\n",
    "\n",
    "plt.tight_layout()\n",
    "plt.ylabel('True label')\n",
    "plt.xlabel('Predicted label')\n",
    "plt.show()"
   ]
  },
  {
   "attachments": {},
   "cell_type": "markdown",
   "metadata": {},
   "source": [
    "### RNN 预测"
   ]
  },
  {
   "cell_type": "code",
   "execution_count": 24,
   "metadata": {},
   "outputs": [
    {
     "name": "stderr",
     "output_type": "stream",
     "text": [
      "100%|██████████| 1036/1036 [00:02<00:00, 458.41it/s]\n"
     ]
    }
   ],
   "source": [
    "result = []\n",
    "for batch in tqdm(testDataLoader):\n",
    "    x , _ = batch\n",
    "    x = x.to(device)\n",
    "    logits = rnn_model(x)\n",
    "    _ , predi = torch.max(logits , dim=1)\n",
    "    result.extend(predi.tolist())"
   ]
  },
  {
   "cell_type": "code",
   "execution_count": 25,
   "metadata": {},
   "outputs": [],
   "source": [
    "import pandas as pd\n",
    "from datetime import datetime\n",
    "df = pd.read_csv('../data/test.tsv' , sep='\\t')\n",
    "df['Sentiment'] = result\n",
    "df = df[['PhraseId' , 'Sentiment']]\n",
    "now = datetime.now().strftime('%Y-%m-%d %H:%M')\n",
    "df.to_csv(f'output/{MODEL_USE_DATA_KIND}-RNN-submit.csv', index=None)"
   ]
  },
  {
   "attachments": {},
   "cell_type": "markdown",
   "metadata": {},
   "source": [
    "### LSTM 验证"
   ]
  },
  {
   "cell_type": "code",
   "execution_count": 14,
   "metadata": {},
   "outputs": [
    {
     "data": {
      "text/plain": [
       "TextRNN(\n",
       "  (embed): Embedding(18228, 300)\n",
       "  (dropout): Dropout(p=0.2, inplace=False)\n",
       "  (lstm): LSTM(300, 192, batch_first=True)\n",
       "  (classifier): Linear(in_features=192, out_features=5, bias=True)\n",
       ")"
      ]
     },
     "execution_count": 14,
     "metadata": {},
     "output_type": "execute_result"
    }
   ],
   "source": [
    "MODEL_PATH = f'../model_param/{MODEL_USE_DATA_KIND}-LSTM_42B_300d_glove.pth'\n",
    "device = torch.device(\"cuda\" if torch.cuda.is_available() else \"cpu\")\n",
    "\n",
    "rnn_model = TextRNN(vocab_size=vocab_size , embedding_dim=EMBEDDING_DIM , rnn_type=\"LSTM\" , hidden_size=192 , num_of_class=NUM_OF_CLASS , device=device)\n",
    "checkpoint = torch.load(MODEL_PATH)\n",
    "rnn_model.load_state_dict(checkpoint['model'])\n",
    "rnn_model.eval()"
   ]
  },
  {
   "cell_type": "code",
   "execution_count": 16,
   "metadata": {},
   "outputs": [
    {
     "name": "stdout",
     "output_type": "stream",
     "text": [
      "==========Load data to batch\n",
      "==========start create origin word embedding\n",
      "==========Load test data finished\n"
     ]
    },
    {
     "name": "stderr",
     "output_type": "stream",
     "text": [
      "100%|██████████| 157/157 [00:01<00:00, 105.72it/s]\n"
     ]
    }
   ],
   "source": [
    "valDataLoader , _ , _ = make_val_dataLodaer(train_dataset_kind = MODEL_USE_DATA_KIND , batch_size=64)\n",
    "valResult = []\n",
    "label = []\n",
    "for batch in tqdm(valDataLoader):\n",
    "    x , y , _ = batch\n",
    "    # x = x.to(device)\n",
    "    logits = rnn_model(x.to(device))\n",
    "    _ , predi = torch.max(logits , dim=1)\n",
    "    valResult.extend(predi.tolist())\n",
    "    label.extend(y.tolist())"
   ]
  },
  {
   "cell_type": "code",
   "execution_count": 17,
   "metadata": {},
   "outputs": [
    {
     "data": {
      "text/plain": [
       "0.2144"
      ]
     },
     "execution_count": 17,
     "metadata": {},
     "output_type": "execute_result"
    }
   ],
   "source": [
    "import numpy as np\n",
    "(np.array(valResult) == np.array(label)).sum() / len(label)"
   ]
  },
  {
   "cell_type": "code",
   "execution_count": 18,
   "metadata": {},
   "outputs": [
    {
     "data": {
      "image/png": "[encoded data removed]",
      "text/plain": [
       "<Figure size 720x576 with 2 Axes>"
      ]
     },
     "metadata": {
      "needs_background": "light"
     },
     "output_type": "display_data"
    }
   ],
   "source": [
    "import matplotlib.pyplot as plt\n",
    "from sklearn.metrics import confusion_matrix\n",
    "\n",
    "cm = confusion_matrix(label , valResult)\n",
    "classes = ['negative','somewhat negative','neutral','somewhat positive','positive']\n",
    "\n",
    "# 绘制混淆矩阵\n",
    "plt.figure(figsize=(10,8))\n",
    "plt.imshow(cm, interpolation='nearest', cmap=plt.cm.Blues)\n",
    "plt.title('Confusion matrix')\n",
    "plt.colorbar()\n",
    "tick_marks = np.arange(len(classes))\n",
    "plt.xticks(tick_marks, classes, rotation=45)\n",
    "plt.yticks(tick_marks, classes)\n",
    "\n",
    "plt.tight_layout()\n",
    "plt.ylabel('True label')\n",
    "plt.xlabel('Predicted label')\n",
    "plt.show()"
   ]
  },
  {
   "attachments": {},
   "cell_type": "markdown",
   "metadata": {},
   "source": [
    "### LSTM 预测"
   ]
  },
  {
   "cell_type": "code",
   "execution_count": 20,
   "metadata": {},
   "outputs": [
    {
     "name": "stderr",
     "output_type": "stream",
     "text": [
      "100%|██████████| 1036/1036 [00:07<00:00, 138.82it/s]\n"
     ]
    }
   ],
   "source": [
    "result = []\n",
    "for batch in tqdm(testDataLoader):\n",
    "    x , _ = batch\n",
    "    x = x.to(device)\n",
    "    logits = rnn_model(x)\n",
    "    _ , predi = torch.max(logits , dim=1)\n",
    "    result.extend(predi.tolist())\n",
    "\n",
    "\n",
    "import pandas as pd\n",
    "from datetime import datetime\n",
    "df = pd.read_csv('../data/test.tsv' , sep='\\t')\n",
    "df['Sentiment'] = result\n",
    "df = df[['PhraseId' , 'Sentiment']]\n",
    "now = datetime.now().strftime('%Y-%m-%d %H:%M')\n",
    "df.to_csv(f'output/{MODEL_USE_DATA_KIND}-LSTM-submit.csv', index=None)"
   ]
  },
  {
   "attachments": {},
   "cell_type": "markdown",
   "metadata": {},
   "source": [
    "### Bi-LSTM 验证\n"
   ]
  },
  {
   "cell_type": "code",
   "execution_count": 26,
   "metadata": {},
   "outputs": [
    {
     "data": {
      "text/plain": [
       "TextRNN(\n",
       "  (embed): Embedding(18228, 300)\n",
       "  (dropout): Dropout(p=0.2, inplace=False)\n",
       "  (lstm): LSTM(300, 192, batch_first=True, bidirectional=True)\n",
       "  (classifier): Linear(in_features=384, out_features=5, bias=True)\n",
       ")"
      ]
     },
     "execution_count": 26,
     "metadata": {},
     "output_type": "execute_result"
    }
   ],
   "source": [
    "MODEL_PATH = f'../model_param/{MODEL_USE_DATA_KIND}-Bi-LSTM_42B_300d_glove.pth'\n",
    "device = torch.device(\"cuda\" if torch.cuda.is_available() else \"cpu\")\n",
    "\n",
    "rnn_model = TextRNN(vocab_size=vocab_size , embedding_dim=EMBEDDING_DIM , rnn_type=\"Bi-LSTM\" , hidden_size=192 , num_of_class=NUM_OF_CLASS , device=device)\n",
    "checkpoint = torch.load(MODEL_PATH)\n",
    "rnn_model.load_state_dict(checkpoint['model'])\n",
    "rnn_model.eval()"
   ]
  },
  {
   "cell_type": "code",
   "execution_count": 28,
   "metadata": {},
   "outputs": [
    {
     "name": "stdout",
     "output_type": "stream",
     "text": [
      "==========Load data to batch\n",
      "==========start create origin word embedding\n",
      "==========Load test data finished\n"
     ]
    },
    {
     "name": "stderr",
     "output_type": "stream",
     "text": [
      "100%|██████████| 157/157 [00:02<00:00, 65.12it/s]\n"
     ]
    },
    {
     "data": {
      "text/plain": [
       "0.2157"
      ]
     },
     "execution_count": 28,
     "metadata": {},
     "output_type": "execute_result"
    }
   ],
   "source": [
    "valDataLoader , _ , _ = make_val_dataLodaer(train_dataset_kind = MODEL_USE_DATA_KIND , batch_size=64)\n",
    "valResult = []\n",
    "label = []\n",
    "for batch in tqdm(valDataLoader):\n",
    "    x , y , _ = batch\n",
    "    # x = x.to(device)\n",
    "    logits = rnn_model(x.to(device))\n",
    "    _ , predi = torch.max(logits , dim=1)\n",
    "    valResult.extend(predi.tolist())\n",
    "    label.extend(y.tolist())\n",
    "\n",
    "import numpy as np\n",
    "(np.array(valResult) == np.array(label)).sum() / len(label)"
   ]
  },
  {
   "cell_type": "code",
   "execution_count": 29,
   "metadata": {},
   "outputs": [
    {
     "data": {
      "image/png": "[encoded data removed]",
      "text/plain": [
       "<Figure size 720x576 with 2 Axes>"
      ]
     },
     "metadata": {
      "needs_background": "light"
     },
     "output_type": "display_data"
    }
   ],
   "source": [
    "import matplotlib.pyplot as plt\n",
    "from sklearn.metrics import confusion_matrix\n",
    "\n",
    "cm = confusion_matrix(label , valResult)\n",
    "classes = ['negative','somewhat negative','neutral','somewhat positive','positive']\n",
    "\n",
    "# 绘制混淆矩阵\n",
    "plt.figure(figsize=(10,8))\n",
    "plt.imshow(cm, interpolation='nearest', cmap=plt.cm.Blues)\n",
    "plt.title('Confusion matrix')\n",
    "plt.colorbar()\n",
    "tick_marks = np.arange(len(classes))\n",
    "plt.xticks(tick_marks, classes, rotation=45)\n",
    "plt.yticks(tick_marks, classes)\n",
    "\n",
    "plt.tight_layout()\n",
    "plt.ylabel('True label')\n",
    "plt.xlabel('Predicted label')\n",
    "plt.show()"
   ]
  },
  {
   "attachments": {},
   "cell_type": "markdown",
   "metadata": {},
   "source": [
    "### Bi-LSTM 预测"
   ]
  },
  {
   "cell_type": "code",
   "execution_count": 31,
   "metadata": {},
   "outputs": [
    {
     "name": "stderr",
     "output_type": "stream",
     "text": [
      "100%|██████████| 1036/1036 [00:13<00:00, 76.43it/s]\n"
     ]
    }
   ],
   "source": [
    "result = []\n",
    "for batch in tqdm(testDataLoader):\n",
    "    x , _ = batch\n",
    "    x = x.to(device)\n",
    "    logits = rnn_model(x)\n",
    "    _ , predi = torch.max(logits , dim=1)\n",
    "    result.extend(predi.tolist())\n",
    "\n",
    "\n",
    "import pandas as pd\n",
    "from datetime import datetime\n",
    "df = pd.read_csv('../data/test.tsv' , sep='\\t')\n",
    "df['Sentiment'] = result\n",
    "df = df[['PhraseId' , 'Sentiment']]\n",
    "now = datetime.now().strftime('%Y-%m-%d %H:%M')\n",
    "df.to_csv(f'output/{MODEL_USE_DATA_KIND}-Bi-LSTM-submit.csv', index=None)"
   ]
  }
 ],
 "metadata": {
  "kernelspec": {
   "display_name": "Python 3",
   "language": "python",
   "name": "python3"
  },
  "language_info": {
   "codemirror_mode": {
    "name": "ipython",
    "version": 3
   },
   "file_extension": ".py",
   "mimetype": "text/x-python",
   "name": "python",
   "nbconvert_exporter": "python",
   "pygments_lexer": "ipython3",
   "version": "3.9.6"
  },
  "orig_nbformat": 4
 },
 "nbformat": 4,
 "nbformat_minor": 2
}
